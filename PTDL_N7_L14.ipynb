{
  "nbformat": 4,
  "nbformat_minor": 0,
  "metadata": {
    "colab": {
      "provenance": []
    },
    "kernelspec": {
      "name": "python3",
      "display_name": "Python 3"
    },
    "language_info": {
      "name": "python"
    }
  },
  "cells": [
    {
      "cell_type": "markdown",
      "source": [
        "# **Question1**"
      ],
      "metadata": {
        "id": "jmWXhEV19Iwq"
      }
    },
    {
      "cell_type": "code",
      "source": [
        "import scipy.linalg as sl\n",
        "import numpy as np"
      ],
      "metadata": {
        "id": "-0Lyfy3C89YB"
      },
      "execution_count": null,
      "outputs": []
    },
    {
      "cell_type": "code",
      "source": [
        "M = [[1, 2],\n",
        "     [2, 1],\n",
        "     [3, 4],\n",
        "     [4, 3]]\n",
        "M = np.array(M)\n",
        "U, s, Vh = sl.svd(M, full_matrices=False)\n",
        "print('U')\n",
        "print(U)\n",
        "print('Sigma')\n",
        "print(s)\n",
        "print('Vh')\n",
        "print(Vh)\n",
        "\n",
        "Evals, Evecs = sl.eigh(M.T @ M)\n",
        "\n",
        "indices = np.argsort(Evals)\n",
        "\n",
        "Evals = Evals[indices]\n",
        "Evecs = Evecs[:, indices]\n",
        "\n",
        "print('Evals')\n",
        "print(Evals)\n",
        "print('Evecs')\n",
        "print(Evecs)"
      ],
      "metadata": {
        "colab": {
          "base_uri": "https://localhost:8080/"
        },
        "id": "8RsL10cE9Put",
        "outputId": "3940d835-ebca-4ff5-a97d-2a0c096cbf76"
      },
      "execution_count": null,
      "outputs": [
        {
          "output_type": "stream",
          "name": "stdout",
          "text": [
            "U\n",
            "[[-0.27854301  0.5       ]\n",
            " [-0.27854301 -0.5       ]\n",
            " [-0.64993368  0.5       ]\n",
            " [-0.64993368 -0.5       ]]\n",
            "Sigma\n",
            "[7.61577311 1.41421356]\n",
            "Vh\n",
            "[[-0.70710678 -0.70710678]\n",
            " [-0.70710678  0.70710678]]\n",
            "Evals\n",
            "[ 2. 58.]\n",
            "Evecs\n",
            "[[-0.70710678  0.70710678]\n",
            " [ 0.70710678  0.70710678]]\n"
          ]
        }
      ]
    },
    {
      "cell_type": "markdown",
      "source": [
        "# **Question 2**"
      ],
      "metadata": {
        "id": "i15gN9JP9riB"
      }
    },
    {
      "cell_type": "code",
      "source": [
        "!pip install pyspark\n",
        "!pip install -U -q PyDrive\n",
        "!apt install openjdk-8-jdk-headless -qq\n",
        "import os\n",
        "os.environ[\"JAVA_HOME\"] = \"/usr/lib/jvm/java-8-openjdk-amd64\""
      ],
      "metadata": {
        "colab": {
          "base_uri": "https://localhost:8080/"
        },
        "id": "0EPd_wQY9ycv",
        "outputId": "7523a4d6-d053-49cb-b1f7-b0d8828c248e"
      },
      "execution_count": null,
      "outputs": [
        {
          "output_type": "stream",
          "name": "stdout",
          "text": [
            "Looking in indexes: https://pypi.org/simple, https://us-python.pkg.dev/colab-wheels/public/simple/\n",
            "Requirement already satisfied: pyspark in /usr/local/lib/python3.9/dist-packages (3.3.2)\n",
            "Requirement already satisfied: py4j==0.10.9.5 in /usr/local/lib/python3.9/dist-packages (from pyspark) (0.10.9.5)\n",
            "openjdk-8-jdk-headless is already the newest version (8u362-ga-0ubuntu1~20.04.1).\n",
            "0 upgraded, 0 newly installed, 0 to remove and 23 not upgraded.\n"
          ]
        }
      ]
    },
    {
      "cell_type": "code",
      "source": [
        "import itertools\n",
        "from pyspark import SparkContext, SparkConf\n",
        "from pyspark.sql import *\n",
        "#from pyspark.sql.functions import * Nếu chúng ta làm điều này, nó sẽ bao gồm abs\n",
        "import re, sys, pickle\n",
        "from functools import reduce\n",
        "import pyspark.sql.functions as F\n",
        "import matplotlib.pyplot as pl"
      ],
      "metadata": {
        "id": "RJLpqGHl9-OM"
      },
      "execution_count": null,
      "outputs": []
    },
    {
      "cell_type": "code",
      "source": [
        "# Tạo the Spark Session\n",
        "spark = SparkSession.builder.getOrCreate()\n",
        "\n",
        "# Tạo the Spark Context\n",
        "sc = spark.sparkContext"
      ],
      "metadata": {
        "id": "Eab09u-n-Bsk"
      },
      "execution_count": null,
      "outputs": []
    },
    {
      "cell_type": "code",
      "source": [
        "#Euclidian\n",
        "def l22(u, v):\n",
        "    delta = [u[i] - v[i] for i in range(len(u))]\n",
        "    return reduce(lambda a, b: a + b * b, delta, 0)\n",
        "#Manhattan\n",
        "def l1(u, v):\n",
        "    delta = [u[i] - v[i] for i in range(len(u))]\n",
        "    return reduce(lambda a, b: a + abs(b), delta, 0)\n",
        "\n",
        "def findCentroid(pt, cens, distFcn, phi):\n",
        "    best = float('inf')\n",
        "    besti = None\n",
        "    for i, cen in enumerate(cens.value):\n",
        "        cand = distFcn(pt, cen)\n",
        "        if cand < best:\n",
        "            best = cand\n",
        "            besti = i\n",
        "    phi += best\n",
        "    return besti, pt\n",
        "\n",
        "def aggregate_UV(cumulative, pt):\n",
        "    cumulative_pt, cumulative_cnt = cumulative\n",
        "    for i in range(len(pt)):\n",
        "        cumulative_pt[i] += pt[i]\n",
        "    return cumulative_pt, cumulative_cnt + 1\n",
        "\n",
        "def aggregate_UU(a, b):\n",
        "    a_pt, a_cnt = a\n",
        "    b_pt, b_cnt = b\n",
        "    for i in range(len(a_pt)):\n",
        "        a_pt[i] += b_pt[i]\n",
        "    return a_pt, a_cnt + b_cnt"
      ],
      "metadata": {
        "id": "TPZx2oyp-FE8"
      },
      "execution_count": null,
      "outputs": []
    },
    {
      "cell_type": "code",
      "source": [
        "#Chúng ta cần làm từng cái và kết hợp lại mọi thứ (c1 - l1, c1 -l22, c2 - l1 and c2 - l22)\n",
        "#Tôi giữ nguyên tên của các biến để dễ dàng nhận xét và bỏ ghi chú hơn\n",
        "dataFile = 'data.txt'\n",
        "censFile = 'c1.txt' #chúng ta cần bình luận và bỏ ghi chú cái nào chúng ta không muốn sử dụng\n",
        "censFile = 'c2.txt'\n",
        "distFcn = l1 #Manhattan\n",
        "distFcn = l22 #Euclidian\n",
        "outFile = 'dist_' + l22.__name__ + '__' + censFile\n",
        "outFile = 'dist_' + l1.__name__ + '__' + censFile\n",
        "\n",
        "MAX_ITER = 20 #max iterations\n",
        "k = 10 #clusters\n",
        "NDATA = 4601\n",
        "NDIM = 58\n",
        "cens = []\n",
        "\n",
        "\n",
        "# init centroids - py way :D\n",
        "cens = []\n",
        "with open(censFile) as fh:\n",
        "    for line in fh:\n",
        "        if not line:\n",
        "            continue\n",
        "        cens.append(list(map(float, line.split())))\n",
        "\n",
        "cens = sc.broadcast(cens)\n",
        "\n",
        "# load data\n",
        "data = sc.textFile( dataFile)\n",
        "data = data.map(lambda l: list(map(float, l.split())))\n",
        "\n",
        "phi = sc.accumulator(0)\n",
        "totCosts = []\n",
        "\n",
        "for it in range(1, MAX_ITER + 1):\n",
        "    print('\\n' * 6 + 'iteration %d' % it + '\\n' * 6)\n",
        "\n",
        "    i_pt = data.map(lambda pt: findCentroid(pt, cens, distFcn, phi))\n",
        "    \n",
        "    # M: calc new centroid\n",
        "    i_sumCoors_cnt = i_pt.aggregateByKey(([0] * NDIM, 0),\n",
        "                                         aggregate_UV, aggregate_UU)\n",
        "    i_sumCoors_cnt = i_sumCoors_cnt.collect()\n",
        "    newCens = [None] * k\n",
        "    for i, sumCoors_cnt in i_sumCoors_cnt:\n",
        "        sumCoors, cnt = sumCoors_cnt\n",
        "        newCens[i] = [sumCoors[j] / cnt for j in range(len(sumCoors))]\n",
        "    assert not any([cen is None for cen in newCens])\n",
        "\n",
        "    # record cost, prep new iter\n",
        "    totCosts.append(phi.value)\n",
        "    phi.value = 0\n",
        "    cens.unpersist()\n",
        "    cens = sc.broadcast(newCens)\n",
        "\n",
        "print('\\n' * 6 + '%f\\n' * MAX_ITER % tuple(totCosts) + '\\n' * 6 )\n",
        "with open(outFile, 'wb') as fh:\n",
        "    pickle.dump(totCosts, fh)\n",
        "\n",
        "     "
      ],
      "metadata": {
        "colab": {
          "base_uri": "https://localhost:8080/"
        },
        "id": "lADYX75P-OTz",
        "outputId": "ac0daee9-2136-4940-ecf8-0bb65a72bf66"
      },
      "execution_count": null,
      "outputs": [
        {
          "output_type": "stream",
          "name": "stdout",
          "text": [
            "\n",
            "\n",
            "\n",
            "\n",
            "\n",
            "\n",
            "iteration 1\n",
            "\n",
            "\n",
            "\n",
            "\n",
            "\n",
            "\n",
            "\n",
            "\n",
            "\n",
            "\n",
            "\n",
            "\n",
            "iteration 2\n",
            "\n",
            "\n",
            "\n",
            "\n",
            "\n",
            "\n",
            "\n",
            "\n",
            "\n",
            "\n",
            "\n",
            "\n",
            "iteration 3\n",
            "\n",
            "\n",
            "\n",
            "\n",
            "\n",
            "\n",
            "\n",
            "\n",
            "\n",
            "\n",
            "\n",
            "\n",
            "iteration 4\n",
            "\n",
            "\n",
            "\n",
            "\n",
            "\n",
            "\n",
            "\n",
            "\n",
            "\n",
            "\n",
            "\n",
            "\n",
            "iteration 5\n",
            "\n",
            "\n",
            "\n",
            "\n",
            "\n",
            "\n",
            "\n",
            "\n",
            "\n",
            "\n",
            "\n",
            "\n",
            "iteration 6\n",
            "\n",
            "\n",
            "\n",
            "\n",
            "\n",
            "\n",
            "\n",
            "\n",
            "\n",
            "\n",
            "\n",
            "\n",
            "iteration 7\n",
            "\n",
            "\n",
            "\n",
            "\n",
            "\n",
            "\n",
            "\n",
            "\n",
            "\n",
            "\n",
            "\n",
            "\n",
            "iteration 8\n",
            "\n",
            "\n",
            "\n",
            "\n",
            "\n",
            "\n",
            "\n",
            "\n",
            "\n",
            "\n",
            "\n",
            "\n",
            "iteration 9\n",
            "\n",
            "\n",
            "\n",
            "\n",
            "\n",
            "\n",
            "\n",
            "\n",
            "\n",
            "\n",
            "\n",
            "\n",
            "iteration 10\n",
            "\n",
            "\n",
            "\n",
            "\n",
            "\n",
            "\n",
            "\n",
            "\n",
            "\n",
            "\n",
            "\n",
            "\n",
            "iteration 11\n",
            "\n",
            "\n",
            "\n",
            "\n",
            "\n",
            "\n",
            "\n",
            "\n",
            "\n",
            "\n",
            "\n",
            "\n",
            "iteration 12\n",
            "\n",
            "\n",
            "\n",
            "\n",
            "\n",
            "\n",
            "\n",
            "\n",
            "\n",
            "\n",
            "\n",
            "\n",
            "iteration 13\n",
            "\n",
            "\n",
            "\n",
            "\n",
            "\n",
            "\n",
            "\n",
            "\n",
            "\n",
            "\n",
            "\n",
            "\n",
            "iteration 14\n",
            "\n",
            "\n",
            "\n",
            "\n",
            "\n",
            "\n",
            "\n",
            "\n",
            "\n",
            "\n",
            "\n",
            "\n",
            "iteration 15\n",
            "\n",
            "\n",
            "\n",
            "\n",
            "\n",
            "\n",
            "\n",
            "\n",
            "\n",
            "\n",
            "\n",
            "\n",
            "iteration 16\n",
            "\n",
            "\n",
            "\n",
            "\n",
            "\n",
            "\n",
            "\n",
            "\n",
            "\n",
            "\n",
            "\n",
            "\n",
            "iteration 17\n",
            "\n",
            "\n",
            "\n",
            "\n",
            "\n",
            "\n",
            "\n",
            "\n",
            "\n",
            "\n",
            "\n",
            "\n",
            "iteration 18\n",
            "\n",
            "\n",
            "\n",
            "\n",
            "\n",
            "\n",
            "\n",
            "\n",
            "\n",
            "\n",
            "\n",
            "\n",
            "iteration 19\n",
            "\n",
            "\n",
            "\n",
            "\n",
            "\n",
            "\n",
            "\n",
            "\n",
            "\n",
            "\n",
            "\n",
            "\n",
            "iteration 20\n",
            "\n",
            "\n",
            "\n",
            "\n",
            "\n",
            "\n",
            "\n",
            "\n",
            "\n",
            "\n",
            "\n",
            "\n",
            "438747790.027918\n",
            "249803933.626003\n",
            "194494814.406313\n",
            "169804841.451543\n",
            "156295748.806276\n",
            "149094208.108966\n",
            "142508531.619615\n",
            "132303869.406530\n",
            "117170969.837191\n",
            "108547377.178570\n",
            "102237203.317996\n",
            "98278015.749757\n",
            "95630226.121774\n",
            "93793314.051193\n",
            "92377131.968211\n",
            "91541606.254239\n",
            "91045573.830425\n",
            "90752240.101408\n",
            "90470170.181227\n",
            "90216416.175631\n",
            "\n",
            "\n",
            "\n",
            "\n",
            "\n",
            "\n",
            "\n"
          ]
        }
      ]
    },
    {
      "cell_type": "code",
      "source": [
        "pl.close('all')\n",
        "\n",
        "with open('dist_l1__c1.txt', 'rb') as fh:\n",
        "    l1c1 = pickle.load(fh)\n",
        "with open('dist_l1__c2.txt', 'rb') as fh:\n",
        "    l1c2 = pickle.load(fh)\n",
        "with open('dist_l22__c1.txt', 'rb') as fh:\n",
        "    l22c1 = pickle.load(fh)\n",
        "with open('dist_l22__c2.txt', 'rb') as fh:\n",
        "    l22c2 = pickle.load(fh)\n",
        "\n",
        "pl.title(\"Manhattan Distance\")\n",
        "pl.plot(l1c1, label='c1')\n",
        "pl.plot(l1c2, label='c2')\n",
        "pl.xlabel(\"Iteration #\")\n",
        "pl.ylabel(\"Total Cost\")\n",
        "pl.legend()\n",
        "pl.savefig('plotManhattan.png', dpi=300, bbox_inches='tight')\n",
        "\n",
        "pl.figure()\n",
        "pl.title(\"Euclidian Distance c1\")\n",
        "pl.plot(l22c1, label='c1')\n",
        "pl.xlabel(\"Iteration #\")\n",
        "pl.ylabel(\"Total Cost\")\n",
        "pl.legend()\n",
        "pl.savefig('plotEuclidianC1.png', dpi=300, bbox_inches='tight')\n",
        "pl.figure()\n",
        "pl.title(\"Euclidian Distance c2\")\n",
        "pl.plot(l22c2, label='c2')\n",
        "pl.xlabel(\"Iteration #\")\n",
        "pl.ylabel(\"Total Cost\")\n",
        "pl.legend()\n",
        "pl.savefig('plotEuclidianC2.png', dpi=300, bbox_inches='tight')\n",
        "\n",
        "\n",
        "def change(L):\n",
        "    return (L[0] - L[10]) / L[0]\n",
        "\n",
        "print('Euclidian c1', change(l22c1))\n",
        "print('Euclidian c2', change(l22c2))\n",
        "print('Manhattan c1', change(l1c1))\n",
        "print('Manhattan c2', change(l1c2))"
      ],
      "metadata": {
        "colab": {
          "base_uri": "https://localhost:8080/",
          "height": 920
        },
        "id": "Qm5R7HfB_jSO",
        "outputId": "a381e049-f237-4214-a340-3449af0ac05e"
      },
      "execution_count": null,
      "outputs": [
        {
          "output_type": "stream",
          "name": "stdout",
          "text": [
            "Euclidian c1 0.2648391714456053\n",
            "Euclidian c2 0.7669795594605946\n",
            "Manhattan c1 0.2648391714456053\n",
            "Manhattan c2 0.7669795594605946\n"
          ]
        },
        {
          "output_type": "display_data",
          "data": {
            "text/plain": [
              "<Figure size 432x288 with 1 Axes>"
            ],
            "image/png": "[encoded data removed]"
          },
          "metadata": {
            "needs_background": "light"
          }
        },
        {
          "output_type": "display_data",
          "data": {
            "text/plain": [
              "<Figure size 432x288 with 1 Axes>"
            ],
            "image/png": "[encoded data removed]"
          },
          "metadata": {
            "needs_background": "light"
          }
        },
        {
          "output_type": "display_data",
          "data": {
            "text/plain": [
              "<Figure size 432x288 with 1 Axes>"
            ],
            "image/png": "[encoded data removed]"
          },
          "metadata": {
            "needs_background": "light"
          }
        }
      ]
    },
    {
      "cell_type": "markdown",
      "source": [
        "# **Question 3**"
      ],
      "metadata": {
        "id": "YkkFG5HIDH5y"
      }
    },
    {
      "cell_type": "code",
      "source": [
        "!pip install pyspark\n",
        "!pip install -U -q PyDrive\n",
        "!apt install openjdk-8-jdk-headless -qq\n",
        "import os\n",
        "os.environ[\"JAVA_HOME\"] = \"/usr/lib/jvm/java-8-openjdk-amd64\""
      ],
      "metadata": {
        "colab": {
          "base_uri": "https://localhost:8080/"
        },
        "id": "zV_WjyztDLS5",
        "outputId": "552f387a-934e-401e-992a-a60601da4408"
      },
      "execution_count": null,
      "outputs": [
        {
          "output_type": "stream",
          "name": "stdout",
          "text": [
            "Looking in indexes: https://pypi.org/simple, https://us-python.pkg.dev/colab-wheels/public/simple/\n",
            "Requirement already satisfied: pyspark in /usr/local/lib/python3.9/dist-packages (3.3.2)\n",
            "Requirement already satisfied: py4j==0.10.9.5 in /usr/local/lib/python3.9/dist-packages (from pyspark) (0.10.9.5)\n",
            "openjdk-8-jdk-headless is already the newest version (8u362-ga-0ubuntu1~20.04.1).\n",
            "0 upgraded, 0 newly installed, 0 to remove and 23 not upgraded.\n"
          ]
        }
      ]
    },
    {
      "cell_type": "code",
      "source": [
        "import itertools\n",
        "import numpy as np\n",
        "import matplotlib.pyplot as plt"
      ],
      "metadata": {
        "id": "n7okhEtTDU-4"
      },
      "execution_count": null,
      "outputs": []
    },
    {
      "cell_type": "code",
      "source": [
        "k = 20\n",
        "lamb = 0.1\n",
        "iters = 40\n",
        "eta = 0.015\n",
        "\n",
        "trainfile = \"ratings.train.txt\"\n",
        "myfile = open(trainfile, 'r')\n",
        "\n",
        "q = {}\n",
        "p = {}"
      ],
      "metadata": {
        "id": "c1Md_wSGDZT3"
      },
      "execution_count": null,
      "outputs": []
    },
    {
      "cell_type": "code",
      "source": [
        "# Lần lặp đầu tiên, khởi tạo tất cả q và p\n",
        "for line in myfile:\n",
        "    items = line.strip().split(\"\\t\")\n",
        "    q_row = int(items[0])\n",
        "    p_row = int(items[1])\n",
        "    if q_row in q:\n",
        "        pass\n",
        "    else:\n",
        "        q[q_row] = np.random.rand(k) * np.sqrt(5.0/float(k))\n",
        "    if p_row in p:\n",
        "        pass\n",
        "    else:\n",
        "        p[p_row] = np.random.rand(k) * np.sqrt(5.0/float(k))\n",
        "\n",
        "\n",
        "#Bắt đầu huấn luyện dữ liệu\n",
        "error_record = []\n",
        "for ii in range(iters):\n",
        "    #Trong mỗi iter, mở tập tin một lần nữa\n",
        "    readfile = open(trainfile, 'r')\n",
        "    for readline in readfile:\n",
        "        ratings = readline.strip().split(\"\\t\")\n",
        "        q_idx = int(ratings[0])\n",
        "        p_idx = int(ratings[1])\n",
        "        rate = int(ratings[2])\n",
        "\n",
        "        qi = q[q_idx]\n",
        "        pu = p[p_idx]\n",
        "        pu_T = pu.reshape(k, 1)\n",
        "        varep = 2.0 * (rate - np.dot(qi, pu_T))\n",
        "        # update\n",
        "        qi_new = qi + eta * (varep * pu - 2.0 * lamb * qi)\n",
        "        pu_new = pu + eta * (varep * qi - 2.0 * lamb * pu)\n",
        "        q[q_idx] = qi_new\n",
        "        p[p_idx] = pu_new\n",
        "    # tính toán lỗi\n",
        "    error = 0.0\n",
        "    readfile = open(trainfile, 'r')\n",
        "    for readline in readfile:\n",
        "        ratings = readline.strip().split(\"\\t\")\n",
        "        q_idx = int(ratings[0])\n",
        "        p_idx = int(ratings[1])\n",
        "        rate = int(ratings[2])\n",
        "\n",
        "        qi = q[q_idx]\n",
        "        pu = p[p_idx]\n",
        "        pu_T = pu.reshape(k, 1)\n",
        "        error += (rate - np.dot(qi, pu_T)) ** 2\n",
        "    for q_key in q:\n",
        "        error += np.sum(q[q_key] * q[q_key])\n",
        "    for p_key in p:\n",
        "        error += np.sum(p[p_key] * p[p_key])\n",
        "    # ghi lại lỗi trong mỗi iter\n",
        "    error_scalar = error.reshape(())\n",
        "    print(str(ii + 1 ) + \" of \" + str(iters) + \" iters: \" + str(error_scalar))\n",
        "    error_record.append(error_scalar)"
      ],
      "metadata": {
        "colab": {
          "base_uri": "https://localhost:8080/"
        },
        "id": "PyEPm3WwD72t",
        "outputId": "04074ef8-993d-488a-f37d-84db75ae32b7"
      },
      "execution_count": null,
      "outputs": [
        {
          "output_type": "stream",
          "name": "stdout",
          "text": [
            "1 of 40 iters: 93084.64638951526\n",
            "2 of 40 iters: 91556.29692275493\n",
            "3 of 40 iters: 90398.78571068688\n",
            "4 of 40 iters: 88586.68279468821\n",
            "5 of 40 iters: 86162.37164784872\n",
            "6 of 40 iters: 83790.29411869653\n",
            "7 of 40 iters: 81626.26583923928\n",
            "8 of 40 iters: 79572.4109760485\n",
            "9 of 40 iters: 77619.76747216361\n",
            "10 of 40 iters: 75811.94583345299\n",
            "11 of 40 iters: 74181.5809409448\n",
            "12 of 40 iters: 72735.40112086727\n",
            "13 of 40 iters: 71463.17143500091\n",
            "14 of 40 iters: 70347.83214896057\n",
            "15 of 40 iters: 69371.16386298514\n",
            "16 of 40 iters: 68516.0466303551\n",
            "17 of 40 iters: 67767.04952865987\n",
            "18 of 40 iters: 67110.43084738943\n",
            "19 of 40 iters: 66534.01742940512\n",
            "20 of 40 iters: 66027.09083447329\n",
            "21 of 40 iters: 65580.28259501336\n",
            "22 of 40 iters: 65185.46238818821\n",
            "23 of 40 iters: 64835.614777083356\n",
            "24 of 40 iters: 64524.71016691759\n",
            "25 of 40 iters: 64247.578142602964\n",
            "26 of 40 iters: 63999.78948161856\n",
            "27 of 40 iters: 63777.550205686835\n",
            "28 of 40 iters: 63577.608672490234\n",
            "29 of 40 iters: 63397.17527304801\n",
            "30 of 40 iters: 63233.85361052488\n",
            "31 of 40 iters: 63085.581807686314\n",
            "32 of 40 iters: 62950.582598801404\n",
            "33 of 40 iters: 62827.32097139693\n",
            "34 of 40 iters: 62714.46826336337\n",
            "35 of 40 iters: 62610.87176061623\n",
            "36 of 40 iters: 62515.528968842635\n",
            "37 of 40 iters: 62427.56584711027\n",
            "38 of 40 iters: 62346.2183921109\n",
            "39 of 40 iters: 62270.81705038981\n",
            "40 of 40 iters: 62200.7735137738\n"
          ]
        }
      ]
    },
    {
      "cell_type": "code",
      "source": [
        "x = np.arange(0, iters, 1) + 1\n",
        "y = error_record\n",
        "plt.plot(x, y, \"-o\")\n",
        "plt.xlabel(\"# of Iteration\")\n",
        "plt.ylabel(\"Error\")\n",
        "plt.title(\"Error vs Iteration\")\n",
        "plt.savefig('plot03.png', dpi=300, bbox_inches='tight')\n",
        "plt.show()"
      ],
      "metadata": {
        "colab": {
          "base_uri": "https://localhost:8080/",
          "height": 295
        },
        "id": "Ewch3CqPK030",
        "outputId": "08f71b5f-253c-496a-d7ec-c0c9197d20e7"
      },
      "execution_count": null,
      "outputs": [
        {
          "output_type": "display_data",
          "data": {
            "text/plain": [
              "<Figure size 432x288 with 1 Axes>"
            ],
            "image/png": "[encoded data removed]"
          },
          "metadata": {
            "needs_background": "light"
          }
        }
      ]
    },
    {
      "cell_type": "markdown",
      "source": [
        "# **Question 4**"
      ],
      "metadata": {
        "id": "BCxykgBwMH5K"
      }
    },
    {
      "cell_type": "code",
      "source": [
        "!pip install pyspark\n",
        "!pip install -U -q PyDrive\n",
        "!apt install openjdk-8-jdk-headless -qq\n",
        "import os\n",
        "os.environ[\"JAVA_HOME\"] = \"/usr/lib/jvm/java-8-openjdk-amd64\""
      ],
      "metadata": {
        "colab": {
          "base_uri": "https://localhost:8080/"
        },
        "id": "WLhJzL2NMM-4",
        "outputId": "ff495055-b89d-404c-83c8-0d18f3f77c15"
      },
      "execution_count": null,
      "outputs": [
        {
          "output_type": "stream",
          "name": "stdout",
          "text": [
            "Looking in indexes: https://pypi.org/simple, https://us-python.pkg.dev/colab-wheels/public/simple/\n",
            "Requirement already satisfied: pyspark in /usr/local/lib/python3.9/dist-packages (3.3.2)\n",
            "Requirement already satisfied: py4j==0.10.9.5 in /usr/local/lib/python3.9/dist-packages (from pyspark) (0.10.9.5)\n",
            "openjdk-8-jdk-headless is already the newest version (8u362-ga-0ubuntu1~20.04.1).\n",
            "0 upgraded, 0 newly installed, 0 to remove and 23 not upgraded.\n"
          ]
        }
      ]
    },
    {
      "cell_type": "code",
      "source": [
        "import itertools\n",
        "import numpy as np"
      ],
      "metadata": {
        "id": "s3DHPDM0MY0y"
      },
      "execution_count": null,
      "outputs": []
    },
    {
      "cell_type": "code",
      "source": [
        "dataPath = 'user-shows.txt'\n",
        "showsPath = 'shows.txt'\n",
        "m = 9985\n",
        "n = 563\n",
        "alexi = 499 # user alexy ID\n",
        "shows = []"
      ],
      "metadata": {
        "id": "7dLFGU5LMddP"
      },
      "execution_count": null,
      "outputs": []
    },
    {
      "cell_type": "code",
      "source": [
        "with open(showsPath) as f:\n",
        "    for line in f:\n",
        "        shows.append(line.strip())\n",
        "\n",
        "\n",
        "R = np.zeros((m, n), dtype=np.int16)\n",
        "with open(dataPath) as f:\n",
        "    for i, line in enumerate(f):\n",
        "        R[i, :] = list(map(int, line.split()))\n",
        "\n",
        "p = np.sum(R, axis=1)\n",
        "q = np.sum(R, axis=0)\n",
        "\n",
        "p_ = 1 / np.sqrt(p)\n",
        "q_ = 1 / np.sqrt(q)\n",
        "\n",
        "RTp_ = R.T * p_[None, :]\n",
        "Rq_ = R * q_[None, :]\n",
        "\n",
        "rU = RTp_.T @ RTp_ @ R\n",
        "rI = R @ Rq_.T @ Rq_\n",
        "\n",
        "rU_focus = rU[alexi, :100]\n",
        "rI_focus = rI[alexi, :100]\n",
        "\n",
        "#only get top 5 results\n",
        "rU_idx = np.argsort(rU_focus)[::-1][:5]\n",
        "rI_idx = np.argsort(rI_focus)[::-1][:5]\n",
        "\n",
        "rU_results = list(zip(rU_focus[rU_idx], rU_idx, [shows[i] for i in rU_idx]))\n",
        "rI_results = list(zip(rI_focus[rI_idx], rI_idx, [shows[i] for i in rI_idx]))\n",
        "\n",
        "print(rU_results)\n",
        "print(rI_results)"
      ],
      "metadata": {
        "colab": {
          "base_uri": "https://localhost:8080/"
        },
        "id": "lDm7LHpFMe-u",
        "outputId": "b41d24ce-181f-42b4-df48-c923cfc54f6f"
      },
      "execution_count": null,
      "outputs": [
        {
          "output_type": "stream",
          "name": "stdout",
          "text": [
            "[(908.480053476128, 96, '\"FOX 28 News at 10pm\"'), (861.1759992873301, 74, '\"Family Guy\"'), (827.6012954743582, 45, '\"2009 NCAA Basketball Tournament\"'), (784.7819589039739, 60, '\"NBC 4 at Eleven\"'), (757.6011181024228, 9, '\"Two and a Half Men\"')]\n",
            "[(31.364701678342396, 96, '\"FOX 28 News at 10pm\"'), (30.001141798877764, 74, '\"Family Guy\"'), (29.396797773402554, 60, '\"NBC 4 at Eleven\"'), (29.22700156150048, 45, '\"2009 NCAA Basketball Tournament\"'), (28.97127767405556, 82, '\"Access Hollywood\"')]\n"
          ]
        }
      ]
    }
  ]
}